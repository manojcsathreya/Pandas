{
  "nbformat": 4,
  "nbformat_minor": 0,
  "metadata": {
    "colab": {
      "provenance": [],
      "collapsed_sections": [],
      "authorship_tag": "ABX9TyP+UIZC8rhPF3JcF141+82p",
      "include_colab_link": true
    },
    "kernelspec": {
      "name": "python3",
      "display_name": "Python 3"
    },
    "language_info": {
      "name": "python"
    }
  },
  "cells": [
    {
      "cell_type": "markdown",
      "metadata": {
        "id": "view-in-github",
        "colab_type": "text"
      },
      "source": [
        "<a href=\"https://colab.research.google.com/github/manojcsathreya/Pandas/blob/main/17_pandas_date_time.ipynb\" target=\"_parent\"><img src=\"https://colab.research.google.com/assets/colab-badge.svg\" alt=\"Open In Colab\"/></a>"
      ]
    },
    {
      "cell_type": "code",
      "execution_count": 8,
      "metadata": {
        "id": "MEfF4ORSk216"
      },
      "outputs": [],
      "source": [
        "import pandas as pd\n",
        "import numpy as np\n",
        "from datetime import datetime"
      ]
    },
    {
      "cell_type": "code",
      "source": [
        "datetime(2020,1,5)"
      ],
      "metadata": {
        "colab": {
          "base_uri": "https://localhost:8080/"
        },
        "id": "HxJozpfplE7x",
        "outputId": "fa5650fc-256c-4b12-dd33-4d61e1b4e199"
      },
      "execution_count": 10,
      "outputs": [
        {
          "output_type": "execute_result",
          "data": {
            "text/plain": [
              "datetime.datetime(2020, 1, 5, 0, 0)"
            ]
          },
          "metadata": {},
          "execution_count": 10
        }
      ]
    },
    {
      "cell_type": "code",
      "source": [
        "date=[datetime(2020,1,5),\n",
        "      datetime(2020,1,10),\n",
        "      datetime(2020,1,15),\n",
        "      datetime(2020,1,20),\n",
        "      datetime(2020,1,25)] "
      ],
      "metadata": {
        "id": "-04DJGyhlKC6"
      },
      "execution_count": 11,
      "outputs": []
    },
    {
      "cell_type": "code",
      "source": [
        "date"
      ],
      "metadata": {
        "colab": {
          "base_uri": "https://localhost:8080/"
        },
        "id": "RfqfIFfvlwAH",
        "outputId": "3957e711-041c-4a52-8b03-f042c19c969e"
      },
      "execution_count": 12,
      "outputs": [
        {
          "output_type": "execute_result",
          "data": {
            "text/plain": [
              "[datetime.datetime(2020, 1, 5, 0, 0),\n",
              " datetime.datetime(2020, 1, 10, 0, 0),\n",
              " datetime.datetime(2020, 1, 15, 0, 0),\n",
              " datetime.datetime(2020, 1, 20, 0, 0),\n",
              " datetime.datetime(2020, 1, 25, 0, 0)]"
            ]
          },
          "metadata": {},
          "execution_count": 12
        }
      ]
    },
    {
      "cell_type": "code",
      "source": [
        "ts=pd.Series(np.random.randn(5),index=date)\n",
        "ts"
      ],
      "metadata": {
        "colab": {
          "base_uri": "https://localhost:8080/"
        },
        "id": "Tmvp7ElwlxgC",
        "outputId": "e3571c5a-f39d-46d9-85eb-eb79313f088e"
      },
      "execution_count": 13,
      "outputs": [
        {
          "output_type": "execute_result",
          "data": {
            "text/plain": [
              "2020-01-05    1.757497\n",
              "2020-01-10   -1.657012\n",
              "2020-01-15   -1.688221\n",
              "2020-01-20    0.234057\n",
              "2020-01-25   -0.638947\n",
              "dtype: float64"
            ]
          },
          "metadata": {},
          "execution_count": 13
        }
      ]
    },
    {
      "cell_type": "code",
      "source": [
        "ts.index "
      ],
      "metadata": {
        "colab": {
          "base_uri": "https://localhost:8080/"
        },
        "id": "Bz2vpU6cnamv",
        "outputId": "4fd10070-b672-48bd-a32a-bcd0a5f522da"
      },
      "execution_count": 14,
      "outputs": [
        {
          "output_type": "execute_result",
          "data": {
            "text/plain": [
              "DatetimeIndex(['2020-01-05', '2020-01-10', '2020-01-15', '2020-01-20',\n",
              "               '2020-01-25'],\n",
              "              dtype='datetime64[ns]', freq=None)"
            ]
          },
          "metadata": {},
          "execution_count": 14
        }
      ]
    },
    {
      "cell_type": "code",
      "source": [
        "pd.to_datetime(\"01/01/2020\") "
      ],
      "metadata": {
        "colab": {
          "base_uri": "https://localhost:8080/"
        },
        "id": "7Ln2MPdlncBg",
        "outputId": "aa448b80-4f9c-4f0d-8950-0c76a3054768"
      },
      "execution_count": 15,
      "outputs": [
        {
          "output_type": "execute_result",
          "data": {
            "text/plain": [
              "Timestamp('2020-01-01 00:00:00')"
            ]
          },
          "metadata": {},
          "execution_count": 15
        }
      ]
    },
    {
      "cell_type": "code",
      "source": [
        "dates=pd.to_datetime(\n",
        "    [datetime(2020,7,5),\n",
        "     \"6th of July, 2020\",\n",
        "     \"2020-Jul-7\",\n",
        "     \"20200708\"])\n",
        "dates"
      ],
      "metadata": {
        "colab": {
          "base_uri": "https://localhost:8080/"
        },
        "id": "TJ7LpLIWneZc",
        "outputId": "cf177d4a-64e3-4268-baf3-789619a133cc"
      },
      "execution_count": 23,
      "outputs": [
        {
          "output_type": "execute_result",
          "data": {
            "text/plain": [
              "DatetimeIndex(['2020-07-05', '2020-07-06', '2020-07-07', '2020-07-08'], dtype='datetime64[ns]', freq=None)"
            ]
          },
          "metadata": {},
          "execution_count": 23
        }
      ]
    },
    {
      "cell_type": "code",
      "source": [
        "#You can use the to_period method to convert DatetimeIndex into PeriodIndex for adding frequency codes. For example “D” indicates the daily frequency.\n",
        "dates.to_period(\"D\")"
      ],
      "metadata": {
        "colab": {
          "base_uri": "https://localhost:8080/"
        },
        "id": "9w-ggIbpnjoh",
        "outputId": "800d5738-223c-452b-f838-2204edaed461"
      },
      "execution_count": 21,
      "outputs": [
        {
          "output_type": "execute_result",
          "data": {
            "text/plain": [
              "PeriodIndex(['2020-07-05', '2020-07-06', '2020-07-07', '2020-07-08'], dtype='period[D]')"
            ]
          },
          "metadata": {},
          "execution_count": 21
        }
      ]
    },
    {
      "cell_type": "code",
      "source": [
        "dates - dates[0]"
      ],
      "metadata": {
        "colab": {
          "base_uri": "https://localhost:8080/"
        },
        "id": "Vxh_RvDOnrQ7",
        "outputId": "8dd80b61-5274-415c-e4ad-07e0685a1a4d"
      },
      "execution_count": 24,
      "outputs": [
        {
          "output_type": "execute_result",
          "data": {
            "text/plain": [
              "TimedeltaIndex(['0 days', '1 days', '2 days', '3 days'], dtype='timedelta64[ns]', freq=None)"
            ]
          },
          "metadata": {},
          "execution_count": 24
        }
      ]
    },
    {
      "cell_type": "markdown",
      "source": [
        "Create a time series with the date_range method"
      ],
      "metadata": {
        "id": "fvVyp3kKzPck"
      }
    },
    {
      "cell_type": "code",
      "source": [
        "pd.date_range('2020-08-15','2020-09-01')"
      ],
      "metadata": {
        "colab": {
          "base_uri": "https://localhost:8080/"
        },
        "id": "tW_Hlw0jn25l",
        "outputId": "6c9e74df-0654-4a02-85d1-3fce8c9f3a98"
      },
      "execution_count": 26,
      "outputs": [
        {
          "output_type": "execute_result",
          "data": {
            "text/plain": [
              "DatetimeIndex(['2020-08-15', '2020-08-16', '2020-08-17', '2020-08-18',\n",
              "               '2020-08-19', '2020-08-20', '2020-08-21', '2020-08-22',\n",
              "               '2020-08-23', '2020-08-24', '2020-08-25', '2020-08-26',\n",
              "               '2020-08-27', '2020-08-28', '2020-08-29', '2020-08-30',\n",
              "               '2020-08-31', '2020-09-01'],\n",
              "              dtype='datetime64[ns]', freq='D')"
            ]
          },
          "metadata": {},
          "execution_count": 26
        }
      ]
    },
    {
      "cell_type": "code",
      "source": [
        "pd.date_range('2020-08-15',periods = 10)"
      ],
      "metadata": {
        "colab": {
          "base_uri": "https://localhost:8080/"
        },
        "id": "a4v6CPp_n6ID",
        "outputId": "955345ec-2c7a-41b3-a9d7-4ceb5db6393b"
      },
      "execution_count": 28,
      "outputs": [
        {
          "output_type": "execute_result",
          "data": {
            "text/plain": [
              "DatetimeIndex(['2020-08-15', '2020-08-16', '2020-08-17', '2020-08-18',\n",
              "               '2020-08-19', '2020-08-20', '2020-08-21', '2020-08-22',\n",
              "               '2020-08-23', '2020-08-24'],\n",
              "              dtype='datetime64[ns]', freq='D')"
            ]
          },
          "metadata": {},
          "execution_count": 28
        }
      ]
    },
    {
      "cell_type": "code",
      "source": [
        "pd.date_range('2020-08-25',periods = 10, freq = 'H')"
      ],
      "metadata": {
        "colab": {
          "base_uri": "https://localhost:8080/"
        },
        "id": "pJnK-qcqz7eW",
        "outputId": "259eea35-eaca-4146-9f44-cc006686b693"
      },
      "execution_count": 29,
      "outputs": [
        {
          "output_type": "execute_result",
          "data": {
            "text/plain": [
              "DatetimeIndex(['2020-08-25 00:00:00', '2020-08-25 01:00:00',\n",
              "               '2020-08-25 02:00:00', '2020-08-25 03:00:00',\n",
              "               '2020-08-25 04:00:00', '2020-08-25 05:00:00',\n",
              "               '2020-08-25 06:00:00', '2020-08-25 07:00:00',\n",
              "               '2020-08-25 08:00:00', '2020-08-25 09:00:00'],\n",
              "              dtype='datetime64[ns]', freq='H')"
            ]
          },
          "metadata": {},
          "execution_count": 29
        }
      ]
    },
    {
      "cell_type": "code",
      "source": [
        "pd.date_range('2020-10',periods = 10, freq = 'H')"
      ],
      "metadata": {
        "colab": {
          "base_uri": "https://localhost:8080/"
        },
        "id": "0SCZ-5is0KvM",
        "outputId": "27562144-7109-4658-c710-d900b57fd3bf"
      },
      "execution_count": 32,
      "outputs": [
        {
          "output_type": "execute_result",
          "data": {
            "text/plain": [
              "DatetimeIndex(['2020-10-01 00:00:00', '2020-10-01 01:00:00',\n",
              "               '2020-10-01 02:00:00', '2020-10-01 03:00:00',\n",
              "               '2020-10-01 04:00:00', '2020-10-01 05:00:00',\n",
              "               '2020-10-01 06:00:00', '2020-10-01 07:00:00',\n",
              "               '2020-10-01 08:00:00', '2020-10-01 09:00:00'],\n",
              "              dtype='datetime64[ns]', freq='H')"
            ]
          },
          "metadata": {},
          "execution_count": 32
        }
      ]
    },
    {
      "cell_type": "code",
      "source": [
        "pd.timedelta_range(0,periods = 8, freq='H')"
      ],
      "metadata": {
        "colab": {
          "base_uri": "https://localhost:8080/"
        },
        "id": "AFHJ-m4p0Yov",
        "outputId": "bad793ff-9ef2-46e5-d593-71751b6b15d0"
      },
      "execution_count": 34,
      "outputs": [
        {
          "output_type": "execute_result",
          "data": {
            "text/plain": [
              "TimedeltaIndex(['0 days 00:00:00', '0 days 01:00:00', '0 days 02:00:00',\n",
              "                '0 days 03:00:00', '0 days 04:00:00', '0 days 05:00:00',\n",
              "                '0 days 06:00:00', '0 days 07:00:00'],\n",
              "               dtype='timedelta64[ns]', freq='H')"
            ]
          },
          "metadata": {},
          "execution_count": 34
        }
      ]
    },
    {
      "cell_type": "code",
      "source": [
        "ts"
      ],
      "metadata": {
        "colab": {
          "base_uri": "https://localhost:8080/"
        },
        "id": "5T5eSlGl0u7p",
        "outputId": "761a5dc0-9321-4469-ab36-8c87c1326476"
      },
      "execution_count": 35,
      "outputs": [
        {
          "output_type": "execute_result",
          "data": {
            "text/plain": [
              "2020-01-05    1.757497\n",
              "2020-01-10   -1.657012\n",
              "2020-01-15   -1.688221\n",
              "2020-01-20    0.234057\n",
              "2020-01-25   -0.638947\n",
              "dtype: float64"
            ]
          },
          "metadata": {},
          "execution_count": 35
        }
      ]
    },
    {
      "cell_type": "code",
      "source": [
        "stamp = ts.index[1]"
      ],
      "metadata": {
        "id": "vTEZddVU06R2"
      },
      "execution_count": 36,
      "outputs": []
    },
    {
      "cell_type": "code",
      "source": [
        "ts[stamp]"
      ],
      "metadata": {
        "colab": {
          "base_uri": "https://localhost:8080/"
        },
        "id": "IUMn8Ey00-yD",
        "outputId": "c880aafd-cad7-4601-e14e-f432d42c54c4"
      },
      "execution_count": 37,
      "outputs": [
        {
          "output_type": "execute_result",
          "data": {
            "text/plain": [
              "-1.6570118634613906"
            ]
          },
          "metadata": {},
          "execution_count": 37
        }
      ]
    },
    {
      "cell_type": "code",
      "source": [
        "ts['25.1.2020']"
      ],
      "metadata": {
        "colab": {
          "base_uri": "https://localhost:8080/"
        },
        "id": "JBFscxTi1BVB",
        "outputId": "e331923f-e350-48ae-fdc2-8d7f90997f10"
      },
      "execution_count": 38,
      "outputs": [
        {
          "output_type": "execute_result",
          "data": {
            "text/plain": [
              "-0.6389469310419247"
            ]
          },
          "metadata": {},
          "execution_count": 38
        }
      ]
    },
    {
      "cell_type": "code",
      "source": [
        "ts['20200125']"
      ],
      "metadata": {
        "colab": {
          "base_uri": "https://localhost:8080/"
        },
        "id": "NKvNJ3SM1Qum",
        "outputId": "f8d36de4-f3c8-4531-a500-691e8b1de76b"
      },
      "execution_count": 39,
      "outputs": [
        {
          "output_type": "execute_result",
          "data": {
            "text/plain": [
              "-0.6389469310419247"
            ]
          },
          "metadata": {},
          "execution_count": 39
        }
      ]
    },
    {
      "cell_type": "code",
      "source": [
        "long_ts=pd.Series(\n",
        "    np.random.randn(1000),\n",
        "    index=pd.date_range(\"1/1/2020\",\n",
        "                        periods=1000))\n",
        "long_ts.head()"
      ],
      "metadata": {
        "colab": {
          "base_uri": "https://localhost:8080/"
        },
        "id": "hfaI9xvH1VCQ",
        "outputId": "01e44d79-28ea-4880-83d3-925125c505de"
      },
      "execution_count": 40,
      "outputs": [
        {
          "output_type": "execute_result",
          "data": {
            "text/plain": [
              "2020-01-01   -2.597380\n",
              "2020-01-02   -0.349595\n",
              "2020-01-03   -0.249167\n",
              "2020-01-04   -0.355021\n",
              "2020-01-05    0.558699\n",
              "Freq: D, dtype: float64"
            ]
          },
          "metadata": {},
          "execution_count": 40
        }
      ]
    },
    {
      "cell_type": "code",
      "source": [
        "#looking up for values in 2020\n",
        "long_ts['2020'] "
      ],
      "metadata": {
        "colab": {
          "base_uri": "https://localhost:8080/"
        },
        "id": "hvni-kCe1gr0",
        "outputId": "a54b6f6f-be4d-46a1-812f-dc9761445018"
      },
      "execution_count": 41,
      "outputs": [
        {
          "output_type": "execute_result",
          "data": {
            "text/plain": [
              "2020-01-01   -2.597380\n",
              "2020-01-02   -0.349595\n",
              "2020-01-03   -0.249167\n",
              "2020-01-04   -0.355021\n",
              "2020-01-05    0.558699\n",
              "                ...   \n",
              "2020-12-27    0.402390\n",
              "2020-12-28    1.284705\n",
              "2020-12-29    0.825405\n",
              "2020-12-30   -1.009401\n",
              "2020-12-31    0.091005\n",
              "Freq: D, Length: 366, dtype: float64"
            ]
          },
          "metadata": {},
          "execution_count": 41
        }
      ]
    },
    {
      "cell_type": "code",
      "source": [
        "#looking up for values in 2020 Oct\n",
        "long_ts['2020-10']"
      ],
      "metadata": {
        "colab": {
          "base_uri": "https://localhost:8080/"
        },
        "id": "DzNjnecJ1x1k",
        "outputId": "40483805-9972-4688-a66e-bcc7c827abdb"
      },
      "execution_count": 43,
      "outputs": [
        {
          "output_type": "execute_result",
          "data": {
            "text/plain": [
              "2020-10-01   -0.523228\n",
              "2020-10-02   -0.194055\n",
              "2020-10-03   -1.448403\n",
              "2020-10-04   -0.678729\n",
              "2020-10-05    0.171921\n",
              "2020-10-06    0.462373\n",
              "2020-10-07    0.162404\n",
              "2020-10-08    0.182764\n",
              "2020-10-09    0.882717\n",
              "2020-10-10    0.644386\n",
              "2020-10-11   -0.009643\n",
              "2020-10-12    1.584332\n",
              "2020-10-13   -2.205693\n",
              "2020-10-14   -0.103469\n",
              "2020-10-15    0.918806\n",
              "2020-10-16   -0.871682\n",
              "2020-10-17   -0.007374\n",
              "2020-10-18    0.559259\n",
              "2020-10-19    1.559389\n",
              "2020-10-20   -2.091768\n",
              "2020-10-21   -0.596670\n",
              "2020-10-22    0.885973\n",
              "2020-10-23    1.154094\n",
              "2020-10-24    0.459918\n",
              "2020-10-25   -0.804827\n",
              "2020-10-26   -1.098798\n",
              "2020-10-27   -0.241403\n",
              "2020-10-28    0.774874\n",
              "2020-10-29    1.821870\n",
              "2020-10-30    0.035957\n",
              "2020-10-31   -1.767066\n",
              "Freq: D, dtype: float64"
            ]
          },
          "metadata": {},
          "execution_count": 43
        }
      ]
    },
    {
      "cell_type": "code",
      "source": [
        "long_ts[datetime(2022,9,20):] "
      ],
      "metadata": {
        "colab": {
          "base_uri": "https://localhost:8080/"
        },
        "id": "x5encFw92B9G",
        "outputId": "c58964e8-27e5-4275-bf02-01d1a9ebf72c"
      },
      "execution_count": 44,
      "outputs": [
        {
          "output_type": "execute_result",
          "data": {
            "text/plain": [
              "2022-09-20    0.485594\n",
              "2022-09-21   -1.770108\n",
              "2022-09-22   -0.895096\n",
              "2022-09-23    1.785797\n",
              "2022-09-24    0.201442\n",
              "2022-09-25   -0.799072\n",
              "2022-09-26    1.333550\n",
              "Freq: D, dtype: float64"
            ]
          },
          "metadata": {},
          "execution_count": 44
        }
      ]
    },
    {
      "cell_type": "code",
      "source": [
        "ts"
      ],
      "metadata": {
        "colab": {
          "base_uri": "https://localhost:8080/"
        },
        "id": "WBqEKyOa2JXJ",
        "outputId": "42b0d03e-f13a-4fa1-c626-c1b4a68824d4"
      },
      "execution_count": 45,
      "outputs": [
        {
          "output_type": "execute_result",
          "data": {
            "text/plain": [
              "2020-01-05    1.757497\n",
              "2020-01-10   -1.657012\n",
              "2020-01-15   -1.688221\n",
              "2020-01-20    0.234057\n",
              "2020-01-25   -0.638947\n",
              "dtype: float64"
            ]
          },
          "metadata": {},
          "execution_count": 45
        }
      ]
    },
    {
      "cell_type": "code",
      "source": [
        "ts.truncate(after=\"1/15/2020\")"
      ],
      "metadata": {
        "colab": {
          "base_uri": "https://localhost:8080/"
        },
        "id": "Xom5robQ2PY_",
        "outputId": "7036614d-e93a-4960-d28e-62601f736a00"
      },
      "execution_count": 46,
      "outputs": [
        {
          "output_type": "execute_result",
          "data": {
            "text/plain": [
              "2020-01-05    1.757497\n",
              "2020-01-10   -1.657012\n",
              "2020-01-15   -1.688221\n",
              "dtype: float64"
            ]
          },
          "metadata": {},
          "execution_count": 46
        }
      ]
    },
    {
      "cell_type": "code",
      "source": [
        "ts.truncate(before = '2020-01-15')"
      ],
      "metadata": {
        "colab": {
          "base_uri": "https://localhost:8080/"
        },
        "id": "Z2nGl3lq2SiL",
        "outputId": "919f0909-cb07-4f35-c1dc-8b6591663d6a"
      },
      "execution_count": 47,
      "outputs": [
        {
          "output_type": "execute_result",
          "data": {
            "text/plain": [
              "2020-01-15   -1.688221\n",
              "2020-01-20    0.234057\n",
              "2020-01-25   -0.638947\n",
              "dtype: float64"
            ]
          },
          "metadata": {},
          "execution_count": 47
        }
      ]
    },
    {
      "cell_type": "code",
      "source": [
        "date=pd.date_range(\"1/1/2020\",\n",
        "                   periods=100,\n",
        "                   freq=\"W-SUN\")"
      ],
      "metadata": {
        "id": "Xolg3KXK2ez3"
      },
      "execution_count": 48,
      "outputs": []
    },
    {
      "cell_type": "code",
      "source": [
        "long_df=pd.DataFrame(np.random.randn(100,4),\n",
        "                    index=date,\n",
        "                    columns=list(\"ABCD\"))\n",
        "long_df.head()"
      ],
      "metadata": {
        "colab": {
          "base_uri": "https://localhost:8080/",
          "height": 206
        },
        "id": "GHN3uGZE2ira",
        "outputId": "d8870caa-98df-4068-e72c-9095ba01c973"
      },
      "execution_count": 49,
      "outputs": [
        {
          "output_type": "execute_result",
          "data": {
            "text/plain": [
              "                   A         B         C         D\n",
              "2020-01-05 -1.224522  0.927314  1.296141 -0.786793\n",
              "2020-01-12  0.098932 -0.570628 -0.189828 -0.795981\n",
              "2020-01-19  0.095726  0.830705  0.877282  0.008949\n",
              "2020-01-26  0.541380 -0.121431  0.325249  0.363587\n",
              "2020-02-02 -1.513985  0.698579 -0.314593 -2.029019"
            ],
            "text/html": [
              "\n",
              "  <div id=\"df-80e68d41-a9b5-4591-b431-fd7912caee0b\">\n",
              "    <div class=\"colab-df-container\">\n",
              "      <div>\n",
              "<style scoped>\n",
              "    .dataframe tbody tr th:only-of-type {\n",
              "        vertical-align: middle;\n",
              "    }\n",
              "\n",
              "    .dataframe tbody tr th {\n",
              "        vertical-align: top;\n",
              "    }\n",
              "\n",
              "    .dataframe thead th {\n",
              "        text-align: right;\n",
              "    }\n",
              "</style>\n",
              "<table border=\"1\" class=\"dataframe\">\n",
              "  <thead>\n",
              "    <tr style=\"text-align: right;\">\n",
              "      <th></th>\n",
              "      <th>A</th>\n",
              "      <th>B</th>\n",
              "      <th>C</th>\n",
              "      <th>D</th>\n",
              "    </tr>\n",
              "  </thead>\n",
              "  <tbody>\n",
              "    <tr>\n",
              "      <th>2020-01-05</th>\n",
              "      <td>-1.224522</td>\n",
              "      <td>0.927314</td>\n",
              "      <td>1.296141</td>\n",
              "      <td>-0.786793</td>\n",
              "    </tr>\n",
              "    <tr>\n",
              "      <th>2020-01-12</th>\n",
              "      <td>0.098932</td>\n",
              "      <td>-0.570628</td>\n",
              "      <td>-0.189828</td>\n",
              "      <td>-0.795981</td>\n",
              "    </tr>\n",
              "    <tr>\n",
              "      <th>2020-01-19</th>\n",
              "      <td>0.095726</td>\n",
              "      <td>0.830705</td>\n",
              "      <td>0.877282</td>\n",
              "      <td>0.008949</td>\n",
              "    </tr>\n",
              "    <tr>\n",
              "      <th>2020-01-26</th>\n",
              "      <td>0.541380</td>\n",
              "      <td>-0.121431</td>\n",
              "      <td>0.325249</td>\n",
              "      <td>0.363587</td>\n",
              "    </tr>\n",
              "    <tr>\n",
              "      <th>2020-02-02</th>\n",
              "      <td>-1.513985</td>\n",
              "      <td>0.698579</td>\n",
              "      <td>-0.314593</td>\n",
              "      <td>-2.029019</td>\n",
              "    </tr>\n",
              "  </tbody>\n",
              "</table>\n",
              "</div>\n",
              "      <button class=\"colab-df-convert\" onclick=\"convertToInteractive('df-80e68d41-a9b5-4591-b431-fd7912caee0b')\"\n",
              "              title=\"Convert this dataframe to an interactive table.\"\n",
              "              style=\"display:none;\">\n",
              "        \n",
              "  <svg xmlns=\"http://www.w3.org/2000/svg\" height=\"24px\"viewBox=\"0 0 24 24\"\n",
              "       width=\"24px\">\n",
              "    <path d=\"M0 0h24v24H0V0z\" fill=\"none\"/>\n",
              "    <path d=\"M18.56 5.44l.94 2.06.94-2.06 2.06-.94-2.06-.94-.94-2.06-.94 2.06-2.06.94zm-11 1L8.5 8.5l.94-2.06 2.06-.94-2.06-.94L8.5 2.5l-.94 2.06-2.06.94zm10 10l.94 2.06.94-2.06 2.06-.94-2.06-.94-.94-2.06-.94 2.06-2.06.94z\"/><path d=\"M17.41 7.96l-1.37-1.37c-.4-.4-.92-.59-1.43-.59-.52 0-1.04.2-1.43.59L10.3 9.45l-7.72 7.72c-.78.78-.78 2.05 0 2.83L4 21.41c.39.39.9.59 1.41.59.51 0 1.02-.2 1.41-.59l7.78-7.78 2.81-2.81c.8-.78.8-2.07 0-2.86zM5.41 20L4 18.59l7.72-7.72 1.47 1.35L5.41 20z\"/>\n",
              "  </svg>\n",
              "      </button>\n",
              "      \n",
              "  <style>\n",
              "    .colab-df-container {\n",
              "      display:flex;\n",
              "      flex-wrap:wrap;\n",
              "      gap: 12px;\n",
              "    }\n",
              "\n",
              "    .colab-df-convert {\n",
              "      background-color: #E8F0FE;\n",
              "      border: none;\n",
              "      border-radius: 50%;\n",
              "      cursor: pointer;\n",
              "      display: none;\n",
              "      fill: #1967D2;\n",
              "      height: 32px;\n",
              "      padding: 0 0 0 0;\n",
              "      width: 32px;\n",
              "    }\n",
              "\n",
              "    .colab-df-convert:hover {\n",
              "      background-color: #E2EBFA;\n",
              "      box-shadow: 0px 1px 2px rgba(60, 64, 67, 0.3), 0px 1px 3px 1px rgba(60, 64, 67, 0.15);\n",
              "      fill: #174EA6;\n",
              "    }\n",
              "\n",
              "    [theme=dark] .colab-df-convert {\n",
              "      background-color: #3B4455;\n",
              "      fill: #D2E3FC;\n",
              "    }\n",
              "\n",
              "    [theme=dark] .colab-df-convert:hover {\n",
              "      background-color: #434B5C;\n",
              "      box-shadow: 0px 1px 3px 1px rgba(0, 0, 0, 0.15);\n",
              "      filter: drop-shadow(0px 1px 2px rgba(0, 0, 0, 0.3));\n",
              "      fill: #FFFFFF;\n",
              "    }\n",
              "  </style>\n",
              "\n",
              "      <script>\n",
              "        const buttonEl =\n",
              "          document.querySelector('#df-80e68d41-a9b5-4591-b431-fd7912caee0b button.colab-df-convert');\n",
              "        buttonEl.style.display =\n",
              "          google.colab.kernel.accessAllowed ? 'block' : 'none';\n",
              "\n",
              "        async function convertToInteractive(key) {\n",
              "          const element = document.querySelector('#df-80e68d41-a9b5-4591-b431-fd7912caee0b');\n",
              "          const dataTable =\n",
              "            await google.colab.kernel.invokeFunction('convertToInteractive',\n",
              "                                                     [key], {});\n",
              "          if (!dataTable) return;\n",
              "\n",
              "          const docLinkHtml = 'Like what you see? Visit the ' +\n",
              "            '<a target=\"_blank\" href=https://colab.research.google.com/notebooks/data_table.ipynb>data table notebook</a>'\n",
              "            + ' to learn more about interactive tables.';\n",
              "          element.innerHTML = '';\n",
              "          dataTable['output_type'] = 'display_data';\n",
              "          await google.colab.output.renderOutput(dataTable, element);\n",
              "          const docLink = document.createElement('div');\n",
              "          docLink.innerHTML = docLinkHtml;\n",
              "          element.appendChild(docLink);\n",
              "        }\n",
              "      </script>\n",
              "    </div>\n",
              "  </div>\n",
              "  "
            ]
          },
          "metadata": {},
          "execution_count": 49
        }
      ]
    },
    {
      "cell_type": "code",
      "source": [
        "date=pd.DatetimeIndex(\n",
        "    [\"1/1/2020\",\"1/2/2020\",\"1/2/2020\",\n",
        "     \"1/2/2020\",\"1/3/2020\"])\n",
        "ts1=pd.Series(np.arange(5),index=date)\n",
        "ts1"
      ],
      "metadata": {
        "colab": {
          "base_uri": "https://localhost:8080/"
        },
        "id": "hG57v9IQ2mUp",
        "outputId": "7d97aee2-005d-42b8-fd05-7d5981004c9f"
      },
      "execution_count": 50,
      "outputs": [
        {
          "output_type": "execute_result",
          "data": {
            "text/plain": [
              "2020-01-01    0\n",
              "2020-01-02    1\n",
              "2020-01-02    2\n",
              "2020-01-02    3\n",
              "2020-01-03    4\n",
              "dtype: int64"
            ]
          },
          "metadata": {},
          "execution_count": 50
        }
      ]
    },
    {
      "cell_type": "code",
      "source": [
        "ts1.index.is_unique "
      ],
      "metadata": {
        "colab": {
          "base_uri": "https://localhost:8080/"
        },
        "id": "8xq3jQl821qT",
        "outputId": "a00a55c3-7cec-47c4-ca9f-a3d22b085a1f"
      },
      "execution_count": 51,
      "outputs": [
        {
          "output_type": "execute_result",
          "data": {
            "text/plain": [
              "False"
            ]
          },
          "metadata": {},
          "execution_count": 51
        }
      ]
    },
    {
      "cell_type": "code",
      "source": [
        "group=ts1.groupby(level=0) "
      ],
      "metadata": {
        "id": "nB1aR6Ga23k3"
      },
      "execution_count": 52,
      "outputs": []
    },
    {
      "cell_type": "code",
      "source": [
        "group.count()"
      ],
      "metadata": {
        "colab": {
          "base_uri": "https://localhost:8080/"
        },
        "id": "3CWm7daw36kC",
        "outputId": "fdd70150-7058-42e5-d3f7-40ae754a1bd0"
      },
      "execution_count": 53,
      "outputs": [
        {
          "output_type": "execute_result",
          "data": {
            "text/plain": [
              "2020-01-01    1\n",
              "2020-01-02    3\n",
              "2020-01-03    1\n",
              "dtype: int64"
            ]
          },
          "metadata": {},
          "execution_count": 53
        }
      ]
    },
    {
      "cell_type": "code",
      "source": [
        "group.mean()"
      ],
      "metadata": {
        "colab": {
          "base_uri": "https://localhost:8080/"
        },
        "id": "Ygm6w-ua4vmw",
        "outputId": "5aa0dfbb-448c-439f-8ded-7be03eb98671"
      },
      "execution_count": 54,
      "outputs": [
        {
          "output_type": "execute_result",
          "data": {
            "text/plain": [
              "2020-01-01    0.0\n",
              "2020-01-02    2.0\n",
              "2020-01-03    4.0\n",
              "dtype: float64"
            ]
          },
          "metadata": {},
          "execution_count": 54
        }
      ]
    },
    {
      "cell_type": "code",
      "source": [],
      "metadata": {
        "id": "uR2ncwM24xWb"
      },
      "execution_count": null,
      "outputs": []
    }
  ]
}